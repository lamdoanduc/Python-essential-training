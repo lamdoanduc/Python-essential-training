{
 "cells": [
  {
   "cell_type": "markdown",
   "metadata": {},
   "source": [
    "# No idea\n",
    "There is an array of *n* integers. There are also 2 disjoint sets, *A* and *B* each containing m integers. You like all the integers in set *A* and dislike all the integers in set *B*.Your initial happiness is 0. For each *i*  integer in the array, if *i* in *A*, you add 1 to your happiness. If *i* in *B*, you add -1 to your happiness. Otherwise, your happiness does not change. Output your final happiness at the end.\n",
    "\n",
    "*Source: Hackerrank*"
   ]
  },
  {
   "cell_type": "code",
   "execution_count": 1,
   "metadata": {},
   "outputs": [],
   "source": [
    "def happiness(arr, A, B):\n",
    "    happ = 0\n",
    "    for i in arr:\n",
    "        if i in A:\n",
    "            happ += 1\n",
    "        elif i in B:\n",
    "            happ = happ - 1\n",
    "    print(happ)"
   ]
  },
  {
   "cell_type": "code",
   "execution_count": 2,
   "metadata": {},
   "outputs": [
    {
     "name": "stdout",
     "output_type": "stream",
     "text": [
      "4\n"
     ]
    }
   ],
   "source": [
    "happiness([1, 2, 1, 3, 4, 4, 5, 7, 9], [2, 1, 9, 4], [3, 5, 8])\n"
   ]
  },
  {
   "cell_type": "code",
   "execution_count": null,
   "metadata": {},
   "outputs": [],
   "source": []
  }
 ],
 "metadata": {
  "kernelspec": {
   "display_name": "Python 3",
   "language": "python",
   "name": "python3"
  },
  "language_info": {
   "codemirror_mode": {
    "name": "ipython",
    "version": 3
   },
   "file_extension": ".py",
   "mimetype": "text/x-python",
   "name": "python",
   "nbconvert_exporter": "python",
   "pygments_lexer": "ipython3",
   "version": "3.7.6"
  }
 },
 "nbformat": 4,
 "nbformat_minor": 4
}
