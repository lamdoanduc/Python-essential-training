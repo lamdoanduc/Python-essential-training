{
 "cells": [
  {
   "cell_type": "markdown",
   "metadata": {},
   "source": [
    "## The Minion Game\n",
    "Kevin and Stuart want to play the 'The Minion Game'.\\\n",
    "Game Rules\n",
    "Both players are given the same string,.\\\n",
    "Both players have to make substrings using the letters of the string .\\\n",
    "Stuart has to make words starting with consonants.\\\n",
    "Kevin has to make words starting with vowels. \\\n",
    "The game ends when both players have made all possible substrings. \\\n",
    "Scoring\\\n",
    "A player gets +1 point for each occurrence of the substring in the string .\n",
    "For Example:\\\n",
    "String  = BANANA\\\n",
    "Kevin's vowel beginning word = ANA\\\n",
    "Here, ANA occurs twice in BANANA. Hence, Kevin will get 2 Points. \\"
   ]
  },
  {
   "cell_type": "code",
   "execution_count": 9,
   "metadata": {},
   "outputs": [
    {
     "name": "stdout",
     "output_type": "stream",
     "text": [
      "Stuart 121\n"
     ]
    }
   ],
   "source": [
    "def minion(s):\n",
    "    vowels=['A','E','O','I','U']\n",
    "    Stuart=0\n",
    "    Kevin=0\n",
    "    s=s.upper()\n",
    "    for i in range(len(s)):\n",
    "        if s[i] not in vowels:\n",
    "            Stuart += len(s) - i\n",
    "        else: \n",
    "            Kevin += len(s) - i\n",
    "    if Stuart > Kevin:\n",
    "        print(f'Stuart {Stuart}')\n",
    "    else:\n",
    "        print(f'Kevin {Kevin}')\n",
    "\n",
    "minion(\"ThisIsTheMinionGame\")"
   ]
  },
  {
   "cell_type": "code",
   "execution_count": null,
   "metadata": {},
   "outputs": [],
   "source": []
  },
  {
   "cell_type": "markdown",
   "metadata": {},
   "source": []
  }
 ],
 "metadata": {
  "kernelspec": {
   "display_name": "Python 3",
   "language": "python",
   "name": "python3"
  },
  "language_info": {
   "codemirror_mode": {
    "name": "ipython",
    "version": 3
   },
   "file_extension": ".py",
   "mimetype": "text/x-python",
   "name": "python",
   "nbconvert_exporter": "python",
   "pygments_lexer": "ipython3",
   "version": "3.7.6"
  }
 },
 "nbformat": 4,
 "nbformat_minor": 4
}
