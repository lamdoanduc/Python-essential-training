{
 "cells": [
  {
   "cell_type": "markdown",
   "metadata": {},
   "source": [
    "You are given a list of N lowercase English letters. For a given integer K, you can select any K indices (assume 1-based indexing) with a uniform probability from the list.\n",
    "Find the probability that at least one of the K indices selected will contain the letter: 'a'."
   ]
  },
  {
   "cell_type": "code",
   "execution_count": 15,
   "metadata": {},
   "outputs": [
    {
     "name": "stdout",
     "output_type": "stream",
     "text": [
      "10\n",
      "p k l m j k l m a q\n",
      "2\n",
      "0.2\n"
     ]
    }
   ],
   "source": [
    "from itertools import combinations\n",
    "\n",
    "N = int(input())\n",
    "L = input().split()\n",
    "K = int(input())\n",
    "\n",
    "C = list(combinations(L, K))\n",
    "#print(C)\n",
    "F = []\n",
    "for c in C:\n",
    "    if 'a' in c:\n",
    "        F.append(c)\n",
    "#F = filter(lambda c: 'a' in c, C)\n",
    "#print(F)\n",
    "print(\"{0:.3}\".format(len(list(F))/len(C)))"
   ]
  },
  {
   "cell_type": "code",
   "execution_count": null,
   "metadata": {},
   "outputs": [],
   "source": [
    "\n"
   ]
  },
  {
   "cell_type": "code",
   "execution_count": null,
   "metadata": {},
   "outputs": [],
   "source": []
  }
 ],
 "metadata": {
  "kernelspec": {
   "display_name": "Python 3",
   "language": "python",
   "name": "python3"
  },
  "language_info": {
   "codemirror_mode": {
    "name": "ipython",
    "version": 3
   },
   "file_extension": ".py",
   "mimetype": "text/x-python",
   "name": "python",
   "nbconvert_exporter": "python",
   "pygments_lexer": "ipython3",
   "version": "3.7.6"
  }
 },
 "nbformat": 4,
 "nbformat_minor": 4
}
